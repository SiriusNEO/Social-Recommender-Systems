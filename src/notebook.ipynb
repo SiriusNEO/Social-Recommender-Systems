{
 "cells": [
  {
   "cell_type": "markdown",
   "metadata": {},
   "source": [
    "# Notebook: Tridimensional Regularization with Analysis in Social Network for Recommender Systems\n",
    "\n",
    "This notebook provides a short view of the implementation of my minipaper \"Tridimensional Regularization with Analysis in Social Network for Recommender Systems\".\n",
    "\n",
    "The notebook will use a auto training framework which is completely implemented by myself, whose code lies in `src/`. So in this notebook, I just directly use my framework without showing the details.\n",
    "\n",
    "Before running the notebook, the following dependencies are required.\n",
    "\n",
    "- numpy\n",
    "- numba (Use JIT to speed up training. You can also remove it.)\n",
    "- matplotlib\n",
    "\n",
    "The reason that I do not use `scipy.sparse` or `pytorch.sparse` is that their sparse matrices are not suitable for implementing our algorithms, and the speed up is limited. It is difficult to parallelize the calculation of sparse matrices so we just train our model in CPU."
   ]
  },
  {
   "cell_type": "markdown",
   "metadata": {},
   "source": [
    "## Initialize the Benchmark\n",
    "\n",
    "We put all of our three models into the bench mark. The baselines are set internally in the benchmark."
   ]
  },
  {
   "cell_type": "code",
   "execution_count": 21,
   "metadata": {
    "collapsed": true
   },
   "outputs": [],
   "source": [
    "import numpy\n",
    "import matplotlib\n",
    "import numba\n",
    "from matplotlib import pyplot as plt"
   ]
  },
  {
   "cell_type": "code",
   "execution_count": 7,
   "metadata": {},
   "outputs": [
    {
     "name": "stdout",
     "output_type": "stream",
     "text": [
      "[dataloader] dataset douban loaded finish.\n",
      "[dataloader] === dataset profile ===\n",
      "Dataset Name: Douban\n",
      "UserNum=3022, ItemNum=6971, RatingNum=195493\n",
      "TrainSet Size=117695, TestSet Size=77798\n",
      "\n",
      "[benchmark] dataset load finish\n",
      "[benchmark] baselines load finish\n",
      "[benchmark] models load finish\n"
     ]
    }
   ],
   "source": [
    "from benchmark import BenchMark\n",
    "\n",
    "from Scheduler import *\n",
    "\n",
    "\"\"\"\n",
    "    BenchMark takes three types of input: dataset, models and other training parameters.\n",
    "\"\"\"\n",
    "\n",
    "# It is a list, contains all models' configs\n",
    "model_configs = []\n",
    "\n",
    "# We take the average of 5 times as our results\n",
    "# Therefore for each model we repeatedly put it 5 times into the benchmark. \n",
    "for i in range(5):\n",
    "    model_configs.append({\n",
    "        \"model\": \"MF\",\n",
    "        \"lambda1\": 0.01,\n",
    "        \"lambda2\": 0.01,\n",
    "        \"scheduler\": douban_scheduler\n",
    "    })\n",
    "\n",
    "    model_configs.append({\n",
    "        \"model\": \"SR\",\n",
    "        \"lambda1\": 0.01,\n",
    "        \"lambda2\": 0.01,\n",
    "        \"beta\": 5,\n",
    "        \"scheduler\": douban_scheduler\n",
    "    })\n",
    "\n",
    "    model_configs.append({\n",
    "        \"model\": \"TriSR\",\n",
    "        \"lambda1\": 0.01,\n",
    "        \"lambda2\": 0.01,\n",
    "        \"alpha\": 2,\n",
    "        \"beta\":  5,\n",
    "        \"gamma\": 3,\n",
    "        \"scheduler\": douban_scheduler\n",
    "    })\n",
    "\n",
    "# We first run the models on the Douban dataset.\n",
    "douban_benchmark = BenchMark(dataset=\"douban\",\n",
    "                      learning_rate=0.008,\n",
    "                      batch_size=256,\n",
    "                      max_iterations=500,\n",
    "                      model_configs=model_configs)"
   ]
  },
  {
   "cell_type": "markdown",
   "metadata": {},
   "source": [
    "The dataloader is inlined in the benchmark. We can take a glance of our Douban dataset."
   ]
  },
  {
   "cell_type": "code",
   "execution_count": 9,
   "metadata": {},
   "outputs": [
    {
     "name": "stdout",
     "output_type": "stream",
     "text": [
      "[dataloader] === dataset profile ===\n",
      "Dataset Name: Douban\n",
      "UserNum=3022, ItemNum=6971, RatingNum=195493\n",
      "TrainSet Size=117695, TestSet Size=77798\n",
      "\n"
     ]
    }
   ],
   "source": [
    "douban_benchmark.dataloader.show_dataset()"
   ]
  },
  {
   "cell_type": "markdown",
   "metadata": {},
   "source": [
    "And for TriSR, we can plot the influence distribution. Here we take the third model (which is a TriSR) as an example."
   ]
  },
  {
   "cell_type": "code",
   "execution_count": 5,
   "metadata": {},
   "outputs": [
    {
     "name": "stderr",
     "output_type": "stream",
     "text": [
      "/home/sirius/anaconda3/envs/SR_HOMEWORK/lib/python3.6/site-packages/matplotlib/axes/_axes.py:545: UserWarning: No labelled objects found. Use label='...' kwarg on individual plots.\n",
      "  warnings.warn(\"No labelled objects found. \"\n"
     ]
    },
    {
     "data": {
      "image/png": "[encoded data removed]",
      "text/plain": [
       "<matplotlib.figure.Figure at 0x7f03336b35f8>"
      ]
     },
     "metadata": {},
     "output_type": "display_data"
    }
   ],
   "source": [
    "plt.legend()\n",
    "plt.xlabel(\"UserID\")\n",
    "plt.ylabel(\"Influence\")\n",
    "plt.plot(range(1, douban_benchmark.dataloader.userNum+1), douban_benchmark.models[2].rank)\n",
    "plt.show()"
   ]
  },
  {
   "cell_type": "markdown",
   "metadata": {},
   "source": [
    "# Training"
   ]
  },
  {
   "cell_type": "markdown",
   "metadata": {},
   "source": [
    "To show the process of training, we do not directly use `douban_benchmark`. Instead, we create a small test benchmark with only a single TriSR running on it and train it to plot the descent of loss."
   ]
  },
  {
   "cell_type": "markdown",
   "metadata": {},
   "source": [
    "For learning, we use a self-implemented Adam Optimizer in the first and switch to Mini-batch SGD after some iterations. For each dataset, we use a unique learning rate scheduler (a basic decay strategy) to achieve the best performance."
   ]
  },
  {
   "cell_type": "code",
   "execution_count": 6,
   "metadata": {},
   "outputs": [
    {
     "name": "stdout",
     "output_type": "stream",
     "text": [
      "[dataloader] dataset douban loaded finish.\n",
      "[dataloader] === dataset profile ===\n",
      "Dataset Name: Douban\n",
      "UserNum=3022, ItemNum=6971, RatingNum=195493\n",
      "TrainSet Size=117695, TestSet Size=77798\n",
      "\n",
      "[benchmark] dataset load finish\n",
      "[benchmark] baselines load finish\n",
      "[benchmark] models load finish\n"
     ]
    }
   ],
   "source": [
    "# create a new benchmark for testing\n",
    "\n",
    "test_benchmark = BenchMark(dataset=\"douban\", learning_rate=0.008, batch_size=256, \n",
    "                           model_configs=[{\n",
    "                               \"model\": \"TriSR\",\n",
    "                               \"lambda1\": 0.01,\n",
    "                               \"lambda2\": 0.01,\n",
    "                               \"alpha\": 2,\n",
    "                               \"beta\":  5,\n",
    "                               \"gamma\": 3,\n",
    "                               \"scheduler\": douban_scheduler\n",
    "                           }])"
   ]
  },
  {
   "cell_type": "code",
   "execution_count": 7,
   "metadata": {},
   "outputs": [
    {
     "name": "stdout",
     "output_type": "stream",
     "text": [
      "running on CPU. iterations = 500.\n",
      "iteration 29, loss = 17.10342135218055, learning rate = 0.007442092031913413\n",
      "iteration 59, loss = 16.307699499604503, learning rate = 0.005848509517727418\n",
      "iteration 89, loss = 12.280619702342403, learning rate = 0.004596162400608457\n",
      "iteration 119, loss = 9.610159767795903, learning rate = 0.003611981608089339\n",
      "iteration 149, loss = 8.988279723715532, learning rate = 0.0028385444203295604\n",
      "iteration 179, loss = 8.559741739168606, learning rate = 0.0022307241011800824\n",
      "iteration 209, loss = 9.32949040916821, learning rate = 0.001753056947055966\n",
      "iteration 239, loss = 8.20712500024261, learning rate = 0.0013776731322333476\n",
      "iteration 269, loss = 8.905750086847881, learning rate = 0.001082670624285801\n",
      "iteration 299, loss = 8.055026688885503, learning rate = 0.0008508372946137014\n",
      "iteration 329, loss = 8.593582190550794, learning rate = 0.0006686466647075694\n",
      "iteration 359, loss = 8.119152103006112, learning rate = 0.0005254686942555152\n",
      "iteration 389, loss = 8.339695383994297, learning rate = 0.0004129495639724087\n",
      "iteration 419, loss = 8.587662073666365, learning rate = 0.0003245242661441627\n",
      "iteration 449, loss = 8.575753501201753, learning rate = 0.0002550335646399763\n",
      "iteration 479, loss = 8.942024754392468, learning rate = 0.0002004229756553227\n"
     ]
    }
   ],
   "source": [
    "# training.\n",
    "\n",
    "test_benchmark.train(iterations = 500, display_interval = 30, test_interval = 999) # a demo"
   ]
  },
  {
   "cell_type": "code",
   "execution_count": 8,
   "metadata": {},
   "outputs": [
    {
     "name": "stderr",
     "output_type": "stream",
     "text": [
      "/home/sirius/anaconda3/envs/SR_HOMEWORK/lib/python3.6/site-packages/matplotlib/axes/_axes.py:545: UserWarning: No labelled objects found. Use label='...' kwarg on individual plots.\n",
      "  warnings.warn(\"No labelled objects found. \"\n"
     ]
    },
    {
     "data": {
      "image/png": "[encoded data removed]",
      "text/plain": [
       "<matplotlib.figure.Figure at 0x7f03200a8cf8>"
      ]
     },
     "metadata": {},
     "output_type": "display_data"
    }
   ],
   "source": [
    "plt.legend()\n",
    "plt.xlabel('iterations')\n",
    "plt.ylabel('loss')\n",
    "plt.plot(range(500), test_benchmark.models[0].loss_record)\n",
    "plt.show()"
   ]
  },
  {
   "cell_type": "code",
   "execution_count": 10,
   "metadata": {},
   "outputs": [
    {
     "name": "stderr",
     "output_type": "stream",
     "text": [
      "/home/sirius/anaconda3/envs/SR_HOMEWORK/lib/python3.6/site-packages/matplotlib/axes/_axes.py:545: UserWarning: No labelled objects found. Use label='...' kwarg on individual plots.\n",
      "  warnings.warn(\"No labelled objects found. \"\n"
     ]
    },
    {
     "data": {
      "image/png": "[encoded data removed]",
      "text/plain": [
       "<matplotlib.figure.Figure at 0x7f0321b97320>"
      ]
     },
     "metadata": {},
     "output_type": "display_data"
    }
   ],
   "source": [
    "plt.legend()\n",
    "plt.xlabel('iterations')\n",
    "plt.ylabel('RMSE')\n",
    "plt.plot(range(500), test_benchmark.models[0].RMSE_train_record)\n",
    "plt.plot(range(500), test_benchmark.models[0].RMSE_test_record)\n",
    "plt.legend(['train','test'])\n",
    "plt.show()"
   ]
  },
  {
   "cell_type": "markdown",
   "metadata": {},
   "source": [
    "And then we start to systematically judge our models."
   ]
  },
  {
   "cell_type": "code",
   "execution_count": 10,
   "metadata": {},
   "outputs": [
    {
     "name": "stdout",
     "output_type": "stream",
     "text": [
      "running on CPU. iterations = 500.\n",
      "Model 0 [Simple MF] trained finish.\n",
      "Model 1 [SR] trained finish.\n",
      "Model 2 [TriSR] trained finish.\n",
      "Model 3 [Simple MF] trained finish.\n",
      "Model 4 [SR] trained finish.\n",
      "Model 5 [TriSR] trained finish.\n",
      "Model 6 [Simple MF] trained finish.\n",
      "Model 7 [SR] trained finish.\n",
      "Model 8 [TriSR] trained finish.\n",
      "Model 9 [Simple MF] trained finish.\n",
      "Model 10 [SR] trained finish.\n",
      "Model 11 [TriSR] trained finish.\n",
      "Model 12 [Simple MF] trained finish.\n",
      "Model 13 [SR] trained finish.\n",
      "Model 14 [TriSR] trained finish.\n",
      "[benchmark] average dump.\n",
      "\n",
      "=== MAE ===\n",
      "UserMean: 0.6960723507772897\n",
      "ItemMean: 0.6265491721572017\n",
      "UserCF: 0.6873764008003617\n",
      "ItemCF: 0.7461927278973325\n",
      "MF: 0.5984036467118651\n",
      "SR: 0.5972992910591406\n",
      "TriSR: 0.595948748674831\n",
      "\n",
      "=== RMSE ===\n",
      "UserMean: 0.86749016087495\n",
      "ItemMean: 0.7875021673837718\n",
      "UserCF: 0.874305487286352\n",
      "ItemCF: 0.9440067752841698\n",
      "MF: 0.7625748260351093\n",
      "SR: 0.7613964427052318\n",
      "TriSR: 0.7597055713869345\n"
     ]
    }
   ],
   "source": [
    "douban_benchmark.train(display_interval = 9999, test_interval = 9999)\n",
    "\n",
    "result_dict_MAE, result_dict_RMSE = douban_benchmark.average_dump()\n",
    "\n",
    "print(\"\")\n",
    "print(\"=== MAE ===\")\n",
    "for key in result_dict_MAE:\n",
    "    print(\"{}: {}\".format(key, result_dict_MAE[key]))\n",
    "\n",
    "print(\"\")\n",
    "print(\"=== RMSE ===\")\n",
    "for key in result_dict_RMSE:\n",
    "    print(\"{}: {}\".format(key, result_dict_RMSE[key]))"
   ]
  },
  {
   "cell_type": "markdown",
   "metadata": {},
   "source": [
    "## Impact of Parameters\n",
    "\n",
    "Compare different $\\alpha$, $\\beta$ and $\\gamma$."
   ]
  },
  {
   "cell_type": "code",
   "execution_count": 26,
   "metadata": {},
   "outputs": [
    {
     "name": "stdout",
     "output_type": "stream",
     "text": [
      "[dataloader] dataset douban loaded finish.\n",
      "[dataloader] === dataset profile ===\n",
      "Dataset Name: Douban\n",
      "UserNum=3022, ItemNum=6971, RatingNum=195493\n",
      "TrainSet Size=117695, TestSet Size=77798\n",
      "\n",
      "[benchmark] dataset load finish\n",
      "[benchmark] baselines load finish\n",
      "[benchmark] models load finish\n"
     ]
    }
   ],
   "source": [
    "para_models = []\n",
    "\n",
    "# 3 times average\n",
    "for i in range(3):\n",
    "    for n in range(-2, 3):\n",
    "        alpha = 2 * (10**n)\n",
    "        # print(\"alpha = \", alpha)\n",
    "        para_models.append({\n",
    "            \"model\": \"TriSR\",\n",
    "            \"lambda1\": 0.01,\n",
    "            \"lambda2\": 0.01,\n",
    "            \"alpha\": alpha,\n",
    "            \"beta\":  5,\n",
    "            \"gamma\": 3,\n",
    "            \"scheduler\": douban_scheduler\n",
    "        })\n",
    "\n",
    "para_benchmark = BenchMark(dataset=\"douban\", learning_rate=0.006, batch_size=256, model_configs=para_models)"
   ]
  },
  {
   "cell_type": "code",
   "execution_count": 28,
   "metadata": {},
   "outputs": [
    {
     "name": "stdout",
     "output_type": "stream",
     "text": [
      "running on CPU. iterations = 500.\n",
      "Model 0 [TriSR] trained finish.\n",
      "Model 1 [TriSR] trained finish.\n",
      "Model 2 [TriSR] trained finish.\n",
      "Model 3 [TriSR] trained finish.\n",
      "Model 4 [TriSR] trained finish.\n",
      "Model 5 [TriSR] trained finish.\n",
      "Model 6 [TriSR] trained finish.\n",
      "Model 7 [TriSR] trained finish.\n",
      "Model 8 [TriSR] trained finish.\n",
      "Model 9 [TriSR] trained finish.\n",
      "Model 10 [TriSR] trained finish.\n",
      "Model 11 [TriSR] trained finish.\n",
      "Model 12 [TriSR] trained finish.\n",
      "Model 13 [TriSR] trained finish.\n",
      "Model 14 [TriSR] trained finish.\n"
     ]
    }
   ],
   "source": [
    "para_benchmark.train(500, 9999, 9999)"
   ]
  },
  {
   "cell_type": "code",
   "execution_count": 40,
   "metadata": {},
   "outputs": [
    {
     "name": "stderr",
     "output_type": "stream",
     "text": [
      "/home/sirius/anaconda3/envs/SR_HOMEWORK/lib/python3.6/site-packages/matplotlib/axes/_axes.py:545: UserWarning: No labelled objects found. Use label='...' kwarg on individual plots.\n",
      "  warnings.warn(\"No labelled objects found. \"\n"
     ]
    },
    {
     "data": {
      "image/png": "[encoded data removed]",
      "text/plain": [
       "<matplotlib.figure.Figure at 0x7f3fd8352358>"
      ]
     },
     "metadata": {},
     "output_type": "display_data"
    }
   ],
   "source": [
    "data = numpy.zeros(5)\n",
    "\n",
    "for i in range(3):\n",
    "    for j in range(5):\n",
    "        data[j] += para_benchmark.models[i*5+j].RMSE\n",
    "\n",
    "data /= 3\n",
    "\n",
    "plt.ylim((0.763,0.774))\n",
    "plt.legend()\n",
    "plt.xlabel('n (alpha=2*10^n)')\n",
    "plt.ylabel('RMSE')\n",
    "plt.plot([-2, -1, 0, 1, 2], data)\n",
    "plt.show()"
   ]
  },
  {
   "cell_type": "code",
   "execution_count": 41,
   "metadata": {},
   "outputs": [
    {
     "name": "stdout",
     "output_type": "stream",
     "text": [
      "[dataloader] dataset douban loaded finish.\n",
      "[dataloader] === dataset profile ===\n",
      "Dataset Name: Douban\n",
      "UserNum=3022, ItemNum=6971, RatingNum=195493\n",
      "TrainSet Size=117695, TestSet Size=77798\n",
      "\n",
      "[benchmark] dataset load finish\n",
      "[benchmark] baselines load finish\n",
      "[benchmark] models load finish\n"
     ]
    }
   ],
   "source": [
    "para_models = []\n",
    "\n",
    "# 3 times average\n",
    "for i in range(3):\n",
    "    for n in range(-2, 3):\n",
    "        gamma = 5 * (10**n)\n",
    "        para_models.append({\n",
    "            \"model\": \"TriSR\",\n",
    "            \"lambda1\": 0.01,\n",
    "            \"lambda2\": 0.01,\n",
    "            \"alpha\": 2,\n",
    "            \"beta\":  5,\n",
    "            \"gamma\": gamma,\n",
    "            \"scheduler\": douban_scheduler\n",
    "        })\n",
    "\n",
    "para_benchmark = BenchMark(dataset=\"douban\", learning_rate=0.006, batch_size=256, model_configs=para_models)"
   ]
  },
  {
   "cell_type": "code",
   "execution_count": 43,
   "metadata": {},
   "outputs": [
    {
     "name": "stdout",
     "output_type": "stream",
     "text": [
      "running on CPU. iterations = 500.\n",
      "Model 0 [TriSR] trained finish.\n",
      "Model 1 [TriSR] trained finish.\n",
      "Model 2 [TriSR] trained finish.\n",
      "Model 3 [TriSR] trained finish.\n",
      "Model 4 [TriSR] trained finish.\n",
      "Model 5 [TriSR] trained finish.\n",
      "Model 6 [TriSR] trained finish.\n",
      "Model 7 [TriSR] trained finish.\n",
      "Model 8 [TriSR] trained finish.\n",
      "Model 9 [TriSR] trained finish.\n",
      "Model 10 [TriSR] trained finish.\n",
      "Model 11 [TriSR] trained finish.\n",
      "Model 12 [TriSR] trained finish.\n",
      "Model 13 [TriSR] trained finish.\n",
      "Model 14 [TriSR] trained finish.\n"
     ]
    }
   ],
   "source": [
    "para_benchmark.train(500, 9999, 9999)"
   ]
  },
  {
   "cell_type": "code",
   "execution_count": 46,
   "metadata": {},
   "outputs": [
    {
     "name": "stderr",
     "output_type": "stream",
     "text": [
      "/home/sirius/anaconda3/envs/SR_HOMEWORK/lib/python3.6/site-packages/matplotlib/axes/_axes.py:545: UserWarning: No labelled objects found. Use label='...' kwarg on individual plots.\n",
      "  warnings.warn(\"No labelled objects found. \"\n"
     ]
    },
    {
     "data": {
      "image/png": "[encoded data removed]",
      "text/plain": [
       "<matplotlib.figure.Figure at 0x7f3fea45b160>"
      ]
     },
     "metadata": {},
     "output_type": "display_data"
    }
   ],
   "source": [
    "data = numpy.zeros(5)\n",
    "\n",
    "for i in range(3):\n",
    "    for j in range(5):\n",
    "        data[j] += para_benchmark.models[i*5+j].RMSE\n",
    "\n",
    "data /= 3\n",
    "\n",
    "plt.ylim((0.763,0.786))\n",
    "plt.legend()\n",
    "plt.xlabel('n (gamma=5*10^n)')\n",
    "plt.ylabel('RMSE')\n",
    "plt.plot([-2, -1, 0, 1, 2], data)\n",
    "plt.show()"
   ]
  },
  {
   "cell_type": "markdown",
   "metadata": {},
   "source": [
    "## Other Datasets\n",
    "\n",
    "We also need to test our models on Dianping and Epinions, which are both larger than Douban. The process is similar only with some differences in parameter setting. "
   ]
  },
  {
   "cell_type": "markdown",
   "metadata": {},
   "source": [
    "### Dianping"
   ]
  },
  {
   "cell_type": "code",
   "execution_count": null,
   "metadata": {
    "collapsed": true
   },
   "outputs": [],
   "source": [
    "model_configs = []\n",
    "\n",
    "for i in range(5):\n",
    "    model_configs.append({\n",
    "        \"model\": \"MF\",\n",
    "        \"lambda1\": 0.01,\n",
    "        \"lambda2\": 0.01,\n",
    "        \"scheduler\": dianping_scheduler\n",
    "    })\n",
    "\n",
    "    model_configs.append({\n",
    "        \"model\": \"SR\",\n",
    "        \"lambda1\": 0.01,\n",
    "        \"lambda2\": 0.01,\n",
    "        \"beta\": 5,\n",
    "        \"scheduler\": dianping_scheduler\n",
    "    })\n",
    "\n",
    "    model_configs.append({\n",
    "        \"model\": \"TriSR\",\n",
    "        \"lambda1\": 0.01,\n",
    "        \"lambda2\": 0.01,\n",
    "        \"alpha\": 2,\n",
    "        \"beta\":  5,\n",
    "        \"gamma\": 3,\n",
    "        \"scheduler\": dianping_scheduler\n",
    "    })\n",
    "\n",
    "dianping_benchmark = BenchMark(dataset=\"dianping\",\n",
    "                      learning_rate=0.001,\n",
    "                      batch_size=8192,\n",
    "                      max_iterations=1500,\n",
    "                      feature_dim = 20,\n",
    "                      model_configs=model_configs)\n",
    "\n",
    "dianping_benchmark.train(display_interval = 9999, test_interval = 9999)\n",
    "\n",
    "result_dict_MAE, result_dict_RMSE = dianping_benchmark.average_dump()\n",
    "\n",
    "print(\"\")\n",
    "print(\"=== MAE ===\")\n",
    "for key in result_dict_MAE:\n",
    "    print(\"{}: {}\", key, result_dict_MAE[key])\n",
    "\n",
    "print(\"\")\n",
    "print(\"=== RMSE ===\")\n",
    "for key in result_dict_RMSE:\n",
    "    print(\"{}: {}\", key, result_dict_RMSE[key])"
   ]
  },
  {
   "cell_type": "markdown",
   "metadata": {},
   "source": [
    "### Epinions"
   ]
  },
  {
   "cell_type": "code",
   "execution_count": null,
   "metadata": {
    "collapsed": true
   },
   "outputs": [],
   "source": [
    "model_configs = []\n",
    "\n",
    "for i in range(5):\n",
    "    model_configs.append({\n",
    "        \"model\": \"MF\",\n",
    "        \"lambda1\": 0.00001,\n",
    "        \"lambda2\": 0.00001,\n",
    "        \"scheduler\": epinions_scheduler\n",
    "    })\n",
    "\n",
    "    model_configs.append({\n",
    "        \"model\": \"SR\",\n",
    "        \"lambda1\": 0.00001,\n",
    "        \"lambda2\": 0.00001,\n",
    "        \"beta\": 0.55,\n",
    "        \"scheduler\": epinions_scheduler\n",
    "    })\n",
    "\n",
    "    model_configs.append({\n",
    "        \"model\": \"TriSR\",\n",
    "        \"lambda1\": 0.00001,\n",
    "        \"lambda2\": 0.00001,\n",
    "        \"alpha\": 0.25,\n",
    "        \"beta\":  0.5,\n",
    "        \"gamma\": 0.25,\n",
    "        \"scheduler\": epinions_scheduler\n",
    "    })\n",
    "\n",
    "epinions_benchmark = BenchMark(dataset=\"epinions\",\n",
    "                      learning_rate=0.001,\n",
    "                      batch_size=2048,\n",
    "                      feature_dim = 20,\n",
    "                      max_iterations=1500,\n",
    "                      model_configs=model_configs)\n",
    "\n",
    "epinions_benchmark.train(display_interval = 9999, test_interval = 9999)\n",
    "\n",
    "result_dict_MAE, result_dict_RMSE = epinions_benchmark.average_dump()\n",
    "\n",
    "print(\"\")\n",
    "print(\"=== MAE ===\")\n",
    "for key in result_dict_MAE:\n",
    "    print(\"{}: {}\", key, result_dict_MAE[key])\n",
    "\n",
    "print(\"\")\n",
    "print(\"=== RMSE ===\")\n",
    "for key in result_dict_RMSE:\n",
    "    print(\"{}: {}\", key, result_dict_RMSE[key])"
   ]
  }
 ],
 "metadata": {
  "kernelspec": {
   "display_name": "Python [default]",
   "language": "python",
   "name": "python3"
  },
  "language_info": {
   "codemirror_mode": {
    "name": "ipython",
    "version": 3
   },
   "file_extension": ".py",
   "mimetype": "text/x-python",
   "name": "python",
   "nbconvert_exporter": "python",
   "pygments_lexer": "ipython3",
   "version": "3.6.2"
  }
 },
 "nbformat": 4,
 "nbformat_minor": 2
}
